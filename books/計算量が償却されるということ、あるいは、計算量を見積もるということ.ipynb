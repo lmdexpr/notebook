{
 "cells": [
  {
   "cell_type": "code",
   "execution_count": 1,
   "id": "a88abfbb",
   "metadata": {
    "slideshow": {
     "slide_type": "skip"
    }
   },
   "outputs": [
    {
     "name": "stdout",
     "output_type": "stream",
     "text": [
      "Requirement already satisfied: RISE in /opt/homebrew/lib/python3.11/site-packages (5.7.1)\n",
      "Requirement already satisfied: notebook>=6.0 in /opt/homebrew/lib/python3.11/site-packages (from RISE) (6.5.2)\n",
      "Requirement already satisfied: jinja2 in /opt/homebrew/lib/python3.11/site-packages (from notebook>=6.0->RISE) (3.1.2)\n",
      "Requirement already satisfied: tornado>=6.1 in /opt/homebrew/lib/python3.11/site-packages (from notebook>=6.0->RISE) (6.2)\n",
      "Requirement already satisfied: pyzmq>=17 in /opt/homebrew/lib/python3.11/site-packages (from notebook>=6.0->RISE) (24.0.1)\n",
      "Requirement already satisfied: argon2-cffi in /opt/homebrew/lib/python3.11/site-packages (from notebook>=6.0->RISE) (21.3.0)\n",
      "Requirement already satisfied: traitlets>=4.2.1 in /opt/homebrew/lib/python3.11/site-packages (from notebook>=6.0->RISE) (5.5.0)\n",
      "Requirement already satisfied: jupyter-core>=4.6.1 in /opt/homebrew/lib/python3.11/site-packages (from notebook>=6.0->RISE) (5.0.0)\n",
      "Requirement already satisfied: jupyter-client>=5.3.4 in /opt/homebrew/lib/python3.11/site-packages (from notebook>=6.0->RISE) (7.4.7)\n",
      "Requirement already satisfied: ipython-genutils in /opt/homebrew/lib/python3.11/site-packages (from notebook>=6.0->RISE) (0.2.0)\n",
      "Requirement already satisfied: nbformat in /opt/homebrew/lib/python3.11/site-packages (from notebook>=6.0->RISE) (5.7.0)\n",
      "Requirement already satisfied: nbconvert>=5 in /opt/homebrew/lib/python3.11/site-packages (from notebook>=6.0->RISE) (7.2.5)\n",
      "Requirement already satisfied: nest-asyncio>=1.5 in /opt/homebrew/lib/python3.11/site-packages (from notebook>=6.0->RISE) (1.5.6)\n",
      "Requirement already satisfied: ipykernel in /opt/homebrew/lib/python3.11/site-packages (from notebook>=6.0->RISE) (6.17.1)\n",
      "Requirement already satisfied: Send2Trash>=1.8.0 in /opt/homebrew/lib/python3.11/site-packages (from notebook>=6.0->RISE) (1.8.0)\n",
      "Requirement already satisfied: terminado>=0.8.3 in /opt/homebrew/lib/python3.11/site-packages (from notebook>=6.0->RISE) (0.17.0)\n",
      "Requirement already satisfied: prometheus-client in /opt/homebrew/lib/python3.11/site-packages (from notebook>=6.0->RISE) (0.15.0)\n",
      "Requirement already satisfied: nbclassic>=0.4.7 in /opt/homebrew/lib/python3.11/site-packages (from notebook>=6.0->RISE) (0.4.8)\n",
      "Requirement already satisfied: entrypoints in /opt/homebrew/lib/python3.11/site-packages (from jupyter-client>=5.3.4->notebook>=6.0->RISE) (0.4)\n",
      "Requirement already satisfied: python-dateutil>=2.8.2 in /opt/homebrew/lib/python3.11/site-packages (from jupyter-client>=5.3.4->notebook>=6.0->RISE) (2.8.2)\n",
      "Requirement already satisfied: platformdirs in /opt/homebrew/lib/python3.11/site-packages (from jupyter-core>=4.6.1->notebook>=6.0->RISE) (2.5.4)\n",
      "Requirement already satisfied: jupyter-server>=1.8 in /opt/homebrew/lib/python3.11/site-packages (from nbclassic>=0.4.7->notebook>=6.0->RISE) (1.23.3)\n",
      "Requirement already satisfied: notebook-shim>=0.1.0 in /opt/homebrew/lib/python3.11/site-packages (from nbclassic>=0.4.7->notebook>=6.0->RISE) (0.2.2)\n",
      "Requirement already satisfied: beautifulsoup4 in /opt/homebrew/lib/python3.11/site-packages (from nbconvert>=5->notebook>=6.0->RISE) (4.11.1)\n",
      "Requirement already satisfied: bleach in /opt/homebrew/lib/python3.11/site-packages (from nbconvert>=5->notebook>=6.0->RISE) (5.0.1)\n",
      "Requirement already satisfied: defusedxml in /opt/homebrew/lib/python3.11/site-packages (from nbconvert>=5->notebook>=6.0->RISE) (0.7.1)\n",
      "Requirement already satisfied: jupyterlab-pygments in /opt/homebrew/lib/python3.11/site-packages (from nbconvert>=5->notebook>=6.0->RISE) (0.2.2)\n",
      "Requirement already satisfied: markupsafe>=2.0 in /opt/homebrew/lib/python3.11/site-packages (from nbconvert>=5->notebook>=6.0->RISE) (2.1.1)\n",
      "Requirement already satisfied: mistune<3,>=2.0.3 in /opt/homebrew/lib/python3.11/site-packages (from nbconvert>=5->notebook>=6.0->RISE) (2.0.4)\n",
      "Requirement already satisfied: nbclient>=0.5.0 in /opt/homebrew/lib/python3.11/site-packages (from nbconvert>=5->notebook>=6.0->RISE) (0.7.0)\n",
      "Requirement already satisfied: packaging in /opt/homebrew/lib/python3.11/site-packages (from nbconvert>=5->notebook>=6.0->RISE) (21.3)\n",
      "Requirement already satisfied: pandocfilters>=1.4.1 in /opt/homebrew/lib/python3.11/site-packages (from nbconvert>=5->notebook>=6.0->RISE) (1.5.0)\n",
      "Requirement already satisfied: pygments>=2.4.1 in /opt/homebrew/lib/python3.11/site-packages (from nbconvert>=5->notebook>=6.0->RISE) (2.13.0)\n",
      "Requirement already satisfied: tinycss2 in /opt/homebrew/lib/python3.11/site-packages (from nbconvert>=5->notebook>=6.0->RISE) (1.2.1)\n",
      "Requirement already satisfied: fastjsonschema in /opt/homebrew/lib/python3.11/site-packages (from nbformat->notebook>=6.0->RISE) (2.16.2)\n",
      "Requirement already satisfied: jsonschema>=2.6 in /opt/homebrew/lib/python3.11/site-packages (from nbformat->notebook>=6.0->RISE) (4.17.1)\n",
      "Requirement already satisfied: ptyprocess in /opt/homebrew/lib/python3.11/site-packages (from terminado>=0.8.3->notebook>=6.0->RISE) (0.7.0)\n",
      "Requirement already satisfied: argon2-cffi-bindings in /opt/homebrew/lib/python3.11/site-packages (from argon2-cffi->notebook>=6.0->RISE) (21.2.0)\n",
      "Requirement already satisfied: appnope in /opt/homebrew/lib/python3.11/site-packages (from ipykernel->notebook>=6.0->RISE) (0.1.3)\n",
      "Requirement already satisfied: debugpy>=1.0 in /opt/homebrew/lib/python3.11/site-packages (from ipykernel->notebook>=6.0->RISE) (1.6.3)\n",
      "Requirement already satisfied: ipython>=7.23.1 in /opt/homebrew/lib/python3.11/site-packages (from ipykernel->notebook>=6.0->RISE) (8.6.0)\n",
      "Requirement already satisfied: matplotlib-inline>=0.1 in /opt/homebrew/lib/python3.11/site-packages (from ipykernel->notebook>=6.0->RISE) (0.1.6)\n",
      "Requirement already satisfied: psutil in /opt/homebrew/lib/python3.11/site-packages (from ipykernel->notebook>=6.0->RISE) (5.9.4)\n",
      "Requirement already satisfied: backcall in /opt/homebrew/lib/python3.11/site-packages (from ipython>=7.23.1->ipykernel->notebook>=6.0->RISE) (0.2.0)\n",
      "Requirement already satisfied: decorator in /opt/homebrew/lib/python3.11/site-packages (from ipython>=7.23.1->ipykernel->notebook>=6.0->RISE) (5.1.1)\n",
      "Requirement already satisfied: jedi>=0.16 in /opt/homebrew/lib/python3.11/site-packages (from ipython>=7.23.1->ipykernel->notebook>=6.0->RISE) (0.18.2)\n",
      "Requirement already satisfied: pickleshare in /opt/homebrew/lib/python3.11/site-packages (from ipython>=7.23.1->ipykernel->notebook>=6.0->RISE) (0.7.5)\n",
      "Requirement already satisfied: prompt-toolkit<3.1.0,>3.0.1 in /opt/homebrew/lib/python3.11/site-packages (from ipython>=7.23.1->ipykernel->notebook>=6.0->RISE) (3.0.33)\n",
      "Requirement already satisfied: stack-data in /opt/homebrew/lib/python3.11/site-packages (from ipython>=7.23.1->ipykernel->notebook>=6.0->RISE) (0.6.1)\n",
      "Requirement already satisfied: pexpect>4.3 in /opt/homebrew/lib/python3.11/site-packages (from ipython>=7.23.1->ipykernel->notebook>=6.0->RISE) (4.8.0)\n",
      "Requirement already satisfied: attrs>=17.4.0 in /opt/homebrew/lib/python3.11/site-packages (from jsonschema>=2.6->nbformat->notebook>=6.0->RISE) (22.1.0)\n",
      "Requirement already satisfied: pyrsistent!=0.17.0,!=0.17.1,!=0.17.2,>=0.14.0 in /opt/homebrew/lib/python3.11/site-packages (from jsonschema>=2.6->nbformat->notebook>=6.0->RISE) (0.19.2)\n",
      "Requirement already satisfied: anyio<4,>=3.1.0 in /opt/homebrew/lib/python3.11/site-packages (from jupyter-server>=1.8->nbclassic>=0.4.7->notebook>=6.0->RISE) (3.6.2)\n",
      "Requirement already satisfied: websocket-client in /opt/homebrew/lib/python3.11/site-packages (from jupyter-server>=1.8->nbclassic>=0.4.7->notebook>=6.0->RISE) (1.4.2)\n",
      "Requirement already satisfied: six>=1.5 in /opt/homebrew/lib/python3.11/site-packages (from python-dateutil>=2.8.2->jupyter-client>=5.3.4->notebook>=6.0->RISE) (1.16.0)\n",
      "Requirement already satisfied: cffi>=1.0.1 in /opt/homebrew/lib/python3.11/site-packages (from argon2-cffi-bindings->argon2-cffi->notebook>=6.0->RISE) (1.15.1)\n",
      "Requirement already satisfied: soupsieve>1.2 in /opt/homebrew/lib/python3.11/site-packages (from beautifulsoup4->nbconvert>=5->notebook>=6.0->RISE) (2.3.2.post1)\n",
      "Requirement already satisfied: webencodings in /opt/homebrew/lib/python3.11/site-packages (from bleach->nbconvert>=5->notebook>=6.0->RISE) (0.5.1)\n",
      "Requirement already satisfied: pyparsing!=3.0.5,>=2.0.2 in /opt/homebrew/lib/python3.11/site-packages (from packaging->nbconvert>=5->notebook>=6.0->RISE) (3.0.9)\n"
     ]
    },
    {
     "name": "stdout",
     "output_type": "stream",
     "text": [
      "Requirement already satisfied: idna>=2.8 in /opt/homebrew/lib/python3.11/site-packages (from anyio<4,>=3.1.0->jupyter-server>=1.8->nbclassic>=0.4.7->notebook>=6.0->RISE) (3.4)\n",
      "Requirement already satisfied: sniffio>=1.1 in /opt/homebrew/lib/python3.11/site-packages (from anyio<4,>=3.1.0->jupyter-server>=1.8->nbclassic>=0.4.7->notebook>=6.0->RISE) (1.3.0)\n",
      "Requirement already satisfied: pycparser in /opt/homebrew/lib/python3.11/site-packages (from cffi>=1.0.1->argon2-cffi-bindings->argon2-cffi->notebook>=6.0->RISE) (2.21)\n",
      "Requirement already satisfied: parso<0.9.0,>=0.8.0 in /opt/homebrew/lib/python3.11/site-packages (from jedi>=0.16->ipython>=7.23.1->ipykernel->notebook>=6.0->RISE) (0.8.3)\n",
      "Requirement already satisfied: wcwidth in /opt/homebrew/lib/python3.11/site-packages (from prompt-toolkit<3.1.0,>3.0.1->ipython>=7.23.1->ipykernel->notebook>=6.0->RISE) (0.2.5)\n",
      "Requirement already satisfied: executing>=1.2.0 in /opt/homebrew/lib/python3.11/site-packages (from stack-data->ipython>=7.23.1->ipykernel->notebook>=6.0->RISE) (1.2.0)\n",
      "Requirement already satisfied: asttokens>=2.1.0 in /opt/homebrew/lib/python3.11/site-packages (from stack-data->ipython>=7.23.1->ipykernel->notebook>=6.0->RISE) (2.1.0)\n",
      "Requirement already satisfied: pure-eval in /opt/homebrew/lib/python3.11/site-packages (from stack-data->ipython>=7.23.1->ipykernel->notebook>=6.0->RISE) (0.2.2)\n"
     ]
    }
   ],
   "source": [
    "!pip install RISE"
   ]
  },
  {
   "cell_type": "markdown",
   "id": "83d215fe",
   "metadata": {
    "slideshow": {
     "slide_type": "slide"
    }
   },
   "source": [
    "# 計算量が償却されるということ、あるいは、計算量を見積もるということ\n",
    "\n",
    "author : lmdexpr\n",
    "\n",
    "1. Motivation\n",
    "2. 計算量を見積もるということ\n",
    "3. 計算量が償却されるということ"
   ]
  },
  {
   "cell_type": "markdown",
   "id": "8a775812",
   "metadata": {
    "slideshow": {
     "slide_type": "slide"
    }
   },
   "source": [
    "# Motivation\n",
    "\n",
    "なぜアルゴリズム解析したい？\n",
    "\n",
    "-> 自分のプログラムがどの程度の性能なのか測りたい\n",
    "\n",
    "性能とは？\n",
    "\n",
    "-> メモリ\n",
    "\n",
    "-> 実行時間\n",
    "\n",
    "どうやってこれらの指標を\"測る\"のか"
   ]
  },
  {
   "cell_type": "markdown",
   "id": "f18fcac4",
   "metadata": {
    "slideshow": {
     "slide_type": "slide"
    }
   },
   "source": [
    "## Case 1. 待ち合わせ\n",
    "\n",
    "A くん「ごめん！　遅刻する！　あと5分で着くから！」\n",
    "\n",
    "10 分後\n",
    "\n",
    "A くん「もう着く」"
   ]
  },
  {
   "cell_type": "markdown",
   "id": "d11f5fc3",
   "metadata": {
    "slideshow": {
     "slide_type": "subslide"
    }
   },
   "source": [
    "(# ﾟДﾟ)"
   ]
  },
  {
   "cell_type": "markdown",
   "id": "da0b6ae7",
   "metadata": {
    "slideshow": {
     "slide_type": "subslide"
    }
   },
   "source": [
    "B くん「ごめん！　遅刻する！　あと**15**分で着くから！」\n",
    "\n",
    "10 分後\n",
    "\n",
    "B くん「もう着く」"
   ]
  },
  {
   "cell_type": "markdown",
   "id": "812da7ad",
   "metadata": {
    "slideshow": {
     "slide_type": "subslide"
    }
   },
   "source": [
    "ヽ(^^ )"
   ]
  },
  {
   "cell_type": "markdown",
   "id": "cfd46b88",
   "metadata": {
    "slideshow": {
     "slide_type": "subslide"
    }
   },
   "source": [
    "## A くんの何がダメだったのか\n",
    "\n",
    "A くん「ごめん！　遅刻する！　あと5分で着くから！」\n",
    "\n",
    "B くん「ごめん！　遅刻する！　あと15分で着くから！」\n"
   ]
  },
  {
   "cell_type": "markdown",
   "id": "bca71b22",
   "metadata": {
    "slideshow": {
     "slide_type": "subslide"
    }
   },
   "source": [
    "A くん「ごめん！　遅刻する！　あと5分で着くから！」 -> 5分**遅れた**\n",
    "\n",
    "B くん「ごめん！　遅刻する！　あと15分で着くから！」 -> 5分**早く着いた**\n"
   ]
  },
  {
   "cell_type": "markdown",
   "id": "7d09ad82",
   "metadata": {
    "slideshow": {
     "slide_type": "subslide"
    }
   },
   "source": [
    "A くん「ごめん！　遅刻する！　あと**早ければ**5分で着くから！」\n",
    "\n",
    "B くん「ごめん！　遅刻する！　あと**遅くとも**15分で着くから！」"
   ]
  },
  {
   "cell_type": "markdown",
   "id": "540bb099",
   "metadata": {
    "slideshow": {
     "slide_type": "slide"
    }
   },
   "source": [
    "## つまり？\n",
    "\n",
    "時間について考えるときは**最悪ケース**が重要\n",
    "\n",
    "※最良ケースが要らないとかって話じゃないですよ"
   ]
  },
  {
   "cell_type": "markdown",
   "id": "cead7576",
   "metadata": {
    "slideshow": {
     "slide_type": "slide"
    }
   },
   "source": [
    "## Case2. プログラム設計中の会話\n",
    "\n",
    "A くん「プログラムが出来たぞ！」\n",
    "\n",
    "B くん「動いてそうだけど、これってどれくらいの性能が出るの？」\n",
    "\n",
    "A くん（そういえば、こういう時は**最悪ケース**が大事だったな）"
   ]
  },
  {
   "cell_type": "markdown",
   "id": "e8061383",
   "metadata": {
    "slideshow": {
     "slide_type": "subslide"
    }
   },
   "source": [
    "A くん（どれくらいのデータが来るかな）\n",
    "\n",
    "A くん（まあ、そんなに使われないだろうし千件くらいかな）\n",
    "\n",
    "A くん（いやいや、最悪ケースなんだから十万件くらいにしておこう）"
   ]
  },
  {
   "cell_type": "markdown",
   "id": "063e44d0",
   "metadata": {
    "slideshow": {
     "slide_type": "subslide"
    }
   },
   "source": [
    "A くん（次は使われるユーザー数かな？）\n",
    "\n",
    "A くん（うーん、これも分からないな）\n",
    "\n",
    "A くん（でも、最悪ケースなんだから今、動いてるプロダクトの一番多いやつの倍くらいにしておこう）"
   ]
  },
  {
   "cell_type": "markdown",
   "id": "11ec5452",
   "metadata": {
    "slideshow": {
     "slide_type": "subslide"
    }
   },
   "source": [
    "A くん（あとは pod の数とか性能もだな）\n",
    "\n",
    "A くん（数は当然1で考えよう）\n",
    "\n",
    "A くん（性能も極力小さくして計算すると……）"
   ]
  },
  {
   "cell_type": "markdown",
   "id": "6129432e",
   "metadata": {
    "slideshow": {
     "slide_type": "subslide"
    }
   },
   "source": [
    "B くん「どうしたの？　リリースしないの？」\n",
    "\n",
    "A くん「全然動かないかも……」"
   ]
  },
  {
   "cell_type": "markdown",
   "id": "e19fefb5",
   "metadata": {
    "slideshow": {
     "slide_type": "slide"
    }
   },
   "source": [
    "## こういうことじゃない（笑）"
   ]
  },
  {
   "cell_type": "markdown",
   "id": "c60d0c76",
   "metadata": {
    "slideshow": {
     "slide_type": "slide"
    }
   },
   "source": [
    "## でも、じゃあ、どういうこと？\n",
    "\n",
    "Case 2. は大げさな例だった\n",
    "\n",
    "でも、どうする？\n",
    "\n",
    "当然、色んなことを考慮する必要があるけど、ただ最悪を考えれば良いということでもないらしい\n",
    "\n",
    "そこで……"
   ]
  },
  {
   "cell_type": "markdown",
   "id": "5497ed7f",
   "metadata": {
    "slideshow": {
     "slide_type": "slide"
    }
   },
   "source": [
    "# 計算量を見積もるということ"
   ]
  },
  {
   "cell_type": "markdown",
   "id": "807194df",
   "metadata": {
    "slideshow": {
     "slide_type": "slide"
    }
   },
   "source": [
    "## 計算量とはなにか\n",
    "\n",
    "そのまま「計算の量」のこと"
   ]
  },
  {
   "cell_type": "markdown",
   "id": "930eccc0",
   "metadata": {
    "slideshow": {
     "slide_type": "subslide"
    }
   },
   "source": [
    "でも、具体的な時間とか、命令数とかを数えるのはとても**大変**\n",
    "\n",
    "もっと気軽に「こっちの方が〇〇な理由で速いからこっちにしよう」って言いたい"
   ]
  },
  {
   "cell_type": "markdown",
   "id": "b6a925e4",
   "metadata": {
    "slideshow": {
     "slide_type": "subslide"
    }
   },
   "source": [
    "実は A くんの着眼点は悪くありませんでした"
   ]
  },
  {
   "cell_type": "markdown",
   "id": "34f96bd3",
   "metadata": {
    "slideshow": {
     "slide_type": "subslide"
    }
   },
   "source": [
    "再掲\n",
    "\n",
    "A くん（どれくらいのデータが来るかな）\n",
    "\n",
    "A くん（まあ、そんなに使われないだろうし千件くらいかな）\n",
    "\n",
    "A くん（いやいや、最悪ケースなんだから十万件くらいにしておこう）"
   ]
  },
  {
   "cell_type": "markdown",
   "id": "8e657b50",
   "metadata": {
    "slideshow": {
     "slide_type": "subslide"
    }
   },
   "source": [
    "（ほとんどの場合において）\n",
    "\n",
    "「データ」が多くなると「計算」は大変になる"
   ]
  },
  {
   "cell_type": "markdown",
   "id": "bdb4ac0e",
   "metadata": {
    "slideshow": {
     "slide_type": "subslide"
    }
   },
   "source": [
    "言い換えると、\n",
    "\n",
    "「データのサイズ」と「計算の大変さ」は比例している"
   ]
  },
  {
   "cell_type": "markdown",
   "id": "0bf6e7f2",
   "metadata": {
    "slideshow": {
     "slide_type": "subslide"
    }
   },
   "source": [
    "ということは、\n",
    "\n",
    "「データのサイズ」 -> 「計算の大変さ」 な関数のグラフが描ければ、\n",
    "\n",
    "アルゴリズムの性能が解析できるかも！？"
   ]
  },
  {
   "cell_type": "markdown",
   "id": "d87d5e85",
   "metadata": {
    "slideshow": {
     "slide_type": "subslide"
    }
   },
   "source": [
    "もっというと、\n",
    "\n",
    "そんな関数に「データのサイズ」がすげーーー大きい場合が知りたい"
   ]
  },
  {
   "cell_type": "markdown",
   "id": "33d85075",
   "metadata": {
    "slideshow": {
     "slide_type": "subslide"
    }
   },
   "source": [
    "すげーーー大きい場合？ 🤔"
   ]
  },
  {
   "cell_type": "markdown",
   "id": "4fbade8a",
   "metadata": {
    "slideshow": {
     "slide_type": "subslide"
    }
   },
   "source": [
    "$\\infty$"
   ]
  },
  {
   "cell_type": "markdown",
   "id": "05ac94f3",
   "metadata": {
    "slideshow": {
     "slide_type": "slide"
    }
   },
   "source": [
    "## 計算量に解析的アプローチをする\n",
    "\n",
    "ある関数のグラフを解析したいということは微分を考えれば良いということ\n",
    "\n",
    "無限が出てきたということは微分を考えれば良いということ\n",
    "\n",
    "という訳で、解析学（数学）の知識を借りていきます"
   ]
  },
  {
   "cell_type": "markdown",
   "id": "65a9f55c",
   "metadata": {
    "slideshow": {
     "slide_type": "subslide"
    }
   },
   "source": [
    "## 定義\n",
    "\n",
    "$D \\subset \\mathbb{R} \\cup \\{ \\pm \\infty \\}, a \\in D$\n",
    "\n",
    "$g : D \\rightarrow \\mathbb{R}, a の \\mathbb{R} における除外近傍 U 上で g(x) \\ne 0$\n",
    "\n",
    "$f : D \\rightarrow \\mathbb{R}$ が、\n",
    "\n",
    "$\\lim_{x\\rightarrow a,x\\ne a}\\frac{f(x)}{g(x)} = 0$ を満たす時、\n",
    "\n",
    "**(a において) f は g に比べて無視できる**といい、$f\\ll g$と書く。\n",
    "\n",
    "また、a において $f\\ll g$ となる任意の関数 f を$\\omicron(g) (x \\rightarrow a)$と書く（ランダウの記号）。"
   ]
  },
  {
   "cell_type": "markdown",
   "id": "d1b3c0b2",
   "metadata": {
    "slideshow": {
     "slide_type": "subslide"
    }
   },
   "source": [
    "更に、$\\frac{|f|}{|g|}$ が除外近傍 $V (\\subset U)$ の上で有界であれば\n",
    "\n",
    "$x \\rightarrow a$ のとき、 **f は g で押さえられる**といい、 $f \\curlyeqprec g$ と書く。\n",
    "\n",
    "また、同様に$f \\curlyeqprec g$ となる任意の関数 f を $O(g) (x \\rightarrow a)$ と書く。\n",
    "\n",
    "（参考）杉浦光夫(著) . 解析入門 Ⅰ . 東京大学出版会 . 1980"
   ]
  },
  {
   "cell_type": "markdown",
   "id": "bb3270df",
   "metadata": {
    "slideshow": {
     "slide_type": "slide"
    }
   },
   "source": [
    "## 例 1\n",
    "\n",
    "$$\n",
    "\\begin{aligned}\n",
    "f(n) & = 3n^2 + n + 100 \\\\\n",
    "g(n) & = n^2\n",
    "\\end{aligned}\n",
    "$$\n",
    "\n",
    "とすると、"
   ]
  },
  {
   "cell_type": "markdown",
   "id": "7400af8b",
   "metadata": {
    "slideshow": {
     "slide_type": "subslide"
    }
   },
   "source": [
    "$$\n",
    "\\begin{aligned}\n",
    "\\lim_{n \\rightarrow \\infty}\\frac{f(n)}{g(n)}　= lim_{n \\rightarrow \\infty}\\frac{3n^2 + n + 100}{n^2} = lim_{n \\rightarrow \\infty}{3 + \\frac{1}{n} + 100 \\frac{1}{n^2}} = 3\n",
    "\\end{aligned}\n",
    "$$\n",
    "\n",
    "となる。\n",
    "\n",
    "これは有界なので $f=O(g)=O(n^2)$ と評価される。"
   ]
  },
  {
   "cell_type": "code",
   "execution_count": 4,
   "id": "249cfd3d",
   "metadata": {
    "slideshow": {
     "slide_type": "skip"
    }
   },
   "outputs": [
    {
     "name": "stdout",
     "output_type": "stream",
     "text": [
      "Requirement already satisfied: matplotlib in /opt/homebrew/lib/python3.11/site-packages (3.7.1)\n",
      "Requirement already satisfied: numpy in /opt/homebrew/lib/python3.11/site-packages (1.24.2)\n",
      "Requirement already satisfied: contourpy>=1.0.1 in /opt/homebrew/lib/python3.11/site-packages (from matplotlib) (1.0.7)\n",
      "Requirement already satisfied: cycler>=0.10 in /opt/homebrew/lib/python3.11/site-packages (from matplotlib) (0.11.0)\n",
      "Requirement already satisfied: fonttools>=4.22.0 in /opt/homebrew/lib/python3.11/site-packages (from matplotlib) (4.39.3)\n",
      "Requirement already satisfied: kiwisolver>=1.0.1 in /opt/homebrew/lib/python3.11/site-packages (from matplotlib) (1.4.4)\n",
      "Requirement already satisfied: packaging>=20.0 in /opt/homebrew/lib/python3.11/site-packages (from matplotlib) (21.3)\n",
      "Requirement already satisfied: pillow>=6.2.0 in /opt/homebrew/lib/python3.11/site-packages (from matplotlib) (9.5.0)\n",
      "Requirement already satisfied: pyparsing>=2.3.1 in /opt/homebrew/lib/python3.11/site-packages (from matplotlib) (3.0.9)\n",
      "Requirement already satisfied: python-dateutil>=2.7 in /opt/homebrew/lib/python3.11/site-packages (from matplotlib) (2.8.2)\n",
      "Requirement already satisfied: six>=1.5 in /opt/homebrew/lib/python3.11/site-packages (from python-dateutil>=2.7->matplotlib) (1.16.0)\n"
     ]
    }
   ],
   "source": [
    "!pip install matplotlib numpy"
   ]
  },
  {
   "cell_type": "code",
   "execution_count": 44,
   "id": "bb14a2c5",
   "metadata": {
    "slideshow": {
     "slide_type": "subslide"
    }
   },
   "outputs": [
    {
     "data": {
      "image/png": "[encoded data removed]",
      "text/plain": [
       "<Figure size 640x480 with 1 Axes>"
      ]
     },
     "metadata": {},
     "output_type": "display_data"
    }
   ],
   "source": [
    "import matplotlib.pyplot as plt\n",
    "import numpy as np\n",
    "\n",
    "n = np.arange(0, 10, 0.1)\n",
    "\n",
    "plt.plot(n, 3 * n * n + n + 100, label=r\"$3n^2 + n + 100$\")\n",
    "plt.plot(n, n * n, label=r\"$n^2$\")\n",
    "plt.plot(n, n, label=r\"$n$\")\n",
    "plt.legend(bbox_to_anchor=(0, 1), loc='upper left', borderaxespad=1)\n",
    "plt.show()"
   ]
  },
  {
   "cell_type": "markdown",
   "id": "557bbf66",
   "metadata": {
    "slideshow": {
     "slide_type": "slide"
    }
   },
   "source": [
    "## 例 2\n",
    "\n",
    "$$\n",
    "\\begin{aligned}\n",
    "f(n) & = \\frac{1}{100} n^3 \\\\\n",
    "g(n) & = n^2\n",
    "\\end{aligned}\n",
    "$$\n",
    "\n",
    "とすると、"
   ]
  },
  {
   "cell_type": "code",
   "execution_count": 22,
   "id": "bb5317af",
   "metadata": {
    "slideshow": {
     "slide_type": "subslide"
    }
   },
   "outputs": [
    {
     "data": {
      "image/png": "[encoded data removed]",
      "text/plain": [
       "<Figure size 640x480 with 1 Axes>"
      ]
     },
     "metadata": {},
     "output_type": "display_data"
    }
   ],
   "source": [
    "import matplotlib.pyplot as plt\n",
    "import numpy as np\n",
    "\n",
    "n = np.arange(0, 10, 0.1)\n",
    "\n",
    "plt.plot(n, n * n * n / 100, label=r\"$\\frac{1}{100} n^3$\")\n",
    "plt.plot(n, n * n, label=r\"$n^2$\")\n",
    "plt.legend(bbox_to_anchor=(0, 1), loc='upper left', borderaxespad=1)\n",
    "plt.show()"
   ]
  },
  {
   "cell_type": "code",
   "execution_count": 36,
   "id": "972760dc",
   "metadata": {
    "scrolled": false,
    "slideshow": {
     "slide_type": "subslide"
    }
   },
   "outputs": [
    {
     "data": {
      "image/png": "[encoded data removed]",
      "text/plain": [
       "<Figure size 640x480 with 1 Axes>"
      ]
     },
     "metadata": {},
     "output_type": "display_data"
    }
   ],
   "source": [
    "import matplotlib.pyplot as plt\n",
    "import numpy as np\n",
    "\n",
    "n = np.arange(0, 1000, 1)\n",
    "\n",
    "plt.plot(n, n * n * n / 100, label=r\"$\\frac{1}{100} n^3$\")\n",
    "plt.plot(n, n * n, label=r\"$n^2$\")\n",
    "plt.legend(bbox_to_anchor=(0, 1), loc='upper left', borderaxespad=1)\n",
    "plt.show()"
   ]
  },
  {
   "cell_type": "markdown",
   "id": "be04dfc6",
   "metadata": {
    "slideshow": {
     "slide_type": "slide"
    }
   },
   "source": [
    "## で、どう使うの？"
   ]
  },
  {
   "cell_type": "code",
   "execution_count": 37,
   "id": "c830ee6c",
   "metadata": {
    "slideshow": {
     "slide_type": "subslide"
    }
   },
   "outputs": [],
   "source": [
    "# O(n) と評価されるコード\n",
    "\n",
    "# len(arr) = n\n",
    "def find(arr, x):\n",
    "    for i, y in enumerate(arr): # n 回ループが回る\n",
    "        if x == y:\n",
    "            return i # なんか計算してるっぽいけど、所詮定数倍だと思って \"1\" だと思う"
   ]
  },
  {
   "cell_type": "code",
   "execution_count": 38,
   "id": "28efd38e",
   "metadata": {
    "slideshow": {
     "slide_type": "subslide"
    }
   },
   "outputs": [],
   "source": [
    "# O(log n) と評価されるコード\n",
    "\n",
    "# len( (ng,ok] ) = n\n",
    "def binary_search(is_ok, ng, ok):\n",
    "    while (abs(ok - ng) > 1):\n",
    "        mid = (ok + ng) // 2 # ng と ok の中央の値について調査\n",
    "        if is_ok(mid):\n",
    "            ok = mid\n",
    "        else:\n",
    "            ng = mid # どちらの場合でも探索範囲が半分になる\n",
    "    return ok"
   ]
  },
  {
   "cell_type": "code",
   "execution_count": 39,
   "id": "54872440",
   "metadata": {
    "slideshow": {
     "slide_type": "subslide"
    }
   },
   "outputs": [],
   "source": [
    "# https://atcoder.jp/contests/abc051/tasks/abc051_b\n",
    "# 0~k の数字の内で x+y+z = s となるものの数を求めよ\n",
    "\n",
    "# O(k^3)\n",
    "def solve(k, s):\n",
    "    ans = 0\n",
    "    for x in range(k+1):\n",
    "        for y in range(k+1):\n",
    "            for z in range(k+1):\n",
    "                if x+y+z == s:\n",
    "                    ans += 1\n",
    "    return ans"
   ]
  },
  {
   "cell_type": "code",
   "execution_count": 47,
   "id": "4ee1ede5",
   "metadata": {
    "slideshow": {
     "slide_type": "subslide"
    }
   },
   "outputs": [],
   "source": [
    "# https://atcoder.jp/contests/abc051/tasks/abc051_b\n",
    "# 0~k の数字の内で x+y+z = s となるものの数を求めよ\n",
    "\n",
    "# O(k^2)\n",
    "def solve(k, s):\n",
    "    ans = 0\n",
    "    for x in range(k+1):\n",
    "        for y in range(k+1):\n",
    "            z = s - x - y\n",
    "            if 0 <= z and z <= k:\n",
    "                ans += 1\n",
    "    return ans"
   ]
  },
  {
   "cell_type": "code",
   "execution_count": 41,
   "id": "9be68e8d",
   "metadata": {
    "slideshow": {
     "slide_type": "subslide"
    }
   },
   "outputs": [
    {
     "data": {
      "image/png": "[encoded data removed]",
      "text/plain": [
       "<Figure size 640x480 with 1 Axes>"
      ]
     },
     "metadata": {},
     "output_type": "display_data"
    }
   ],
   "source": [
    "import matplotlib.pyplot as plt\n",
    "import numpy as np\n",
    "\n",
    "n = np.arange(0, 1000, 1)\n",
    "\n",
    "plt.plot(n, n * n * n, label=r\"$n^3$\")\n",
    "plt.plot(n, n * n, label=r\"$n^2$\")\n",
    "plt.legend(bbox_to_anchor=(0, 1), loc='upper left', borderaxespad=1)\n",
    "plt.show()"
   ]
  },
  {
   "cell_type": "markdown",
   "id": "a68eaa3f",
   "metadata": {
    "slideshow": {
     "slide_type": "subslide"
    }
   },
   "source": [
    "## まとめ\n",
    "\n",
    "- 計算量は「計算の量」だけど、すごく計測するのが大変\n",
    "- 微分を考えればすごく分かりやすくアルゴリズムの評価ができる\n",
    "\n",
    "---\n",
    "\n",
    "- 微分を知らなくても、ループの回数が n 回なら O(n) と言っても良さそう\n",
    "  - 標準ライブラリでも中でループしてるかも？注意。\n",
    "- ループが一個減る = $O(n^k) → O(n ^{(k -1)})$ になる\n",
    "  - 一個減るだけですごい速くなる！"
   ]
  },
  {
   "cell_type": "markdown",
   "id": "65054716",
   "metadata": {
    "slideshow": {
     "slide_type": "slide"
    }
   },
   "source": [
    "# 余談\n",
    "\n",
    "現代のコンピュータはおおよそ 1s に $10^9$ ほどのループが回ると言われてます\n",
    "\n",
    "つまり、1s 以内に終了しないといけない、1億ほどのデータを扱うプログラムの場合は $O(n)$ がギリギリということです\n",
    "\n",
    "競技プログラミングはこの辺の感覚がないと、難しいです……"
   ]
  },
  {
   "cell_type": "markdown",
   "id": "9226a135",
   "metadata": {
    "slideshow": {
     "slide_type": "slide"
    }
   },
   "source": [
    "# まだ半分 Σ( ºωº )"
   ]
  },
  {
   "cell_type": "markdown",
   "id": "1bc910fa",
   "metadata": {
    "slideshow": {
     "slide_type": "slide"
    }
   },
   "source": [
    "# 計算量が償却されるということ"
   ]
  },
  {
   "cell_type": "markdown",
   "id": "88a0ad39",
   "metadata": {
    "slideshow": {
     "slide_type": "subslide"
    }
   },
   "source": [
    "A くん「よし、今回はちゃんと計算量を見積もったぞ」\n",
    "\n",
    "A くん「……でも、これだと、$O(n)$ばかりだから使い物にならなさそうだなあ」\n",
    "\n",
    "A くん「これ以上速くなることはないっぽいしなあ」"
   ]
  },
  {
   "cell_type": "markdown",
   "id": "0c3d9aaa",
   "metadata": {
    "slideshow": {
     "slide_type": "subslide"
    }
   },
   "source": [
    "**最悪計算量**を常に考えるのは悲観的すぎる、という話があります\n",
    "\n",
    "では、どうするか？"
   ]
  },
  {
   "cell_type": "markdown",
   "id": "4964d0db",
   "metadata": {
    "slideshow": {
     "slide_type": "subslide"
    }
   },
   "source": [
    "最良を考える？\n",
    "\n",
    "適切な計算量を考える？\n",
    "\n",
    "そういうのもありますが……"
   ]
  },
  {
   "cell_type": "markdown",
   "id": "9d3f9d7c",
   "metadata": {
    "slideshow": {
     "slide_type": "subslide"
    }
   },
   "source": [
    "N 回の操作の中で平均すると$O(1)$というケースがないか？\n",
    "\n",
    "というのが**償却計算量**の概念です"
   ]
  },
  {
   "cell_type": "markdown",
   "id": "ab35e0a5",
   "metadata": {
    "slideshow": {
     "slide_type": "slide"
    }
   },
   "source": [
    "## Case3. 動的配列\n",
    "\n",
    "動的配列の仕組みをご存知ですか？"
   ]
  },
  {
   "cell_type": "markdown",
   "id": "236c5373",
   "metadata": {
    "slideshow": {
     "slide_type": "subslide"
    }
   },
   "source": [
    "配列って**連続して確保されたメモリ領域**ですよね\n",
    "\n",
    "動的配列は、追加すると「メモリの確保」と「それまでの要素のコピー」が走ります"
   ]
  },
  {
   "cell_type": "markdown",
   "id": "0bd40d55",
   "metadata": {
    "slideshow": {
     "slide_type": "subslide"
    }
   },
   "source": [
    "array_1 = $\\fbox{1}$\n",
    "\n",
    "2 を追加すると、一回コピーが走って、\n",
    "\n",
    "array_2 = $\\fbox{1}$　$\\fbox{2}$"
   ]
  },
  {
   "cell_type": "markdown",
   "id": "98c5dc21",
   "metadata": {
    "slideshow": {
     "slide_type": "subslide"
    }
   },
   "source": [
    "array_n = $\\fbox{1}$　...　$\\fbox{n}$\n",
    "\n",
    "n+1 を追加すると、**n回**コピーが走って、\n",
    "\n",
    "array_n1 = $\\fbox{1}$　...　$\\fbox{n}$　$\\fbox{n+1}$"
   ]
  },
  {
   "cell_type": "markdown",
   "id": "93c42951",
   "metadata": {
    "slideshow": {
     "slide_type": "subslide"
    }
   },
   "source": [
    "新しい要素を追加するたびに $O(n)$ の計算が走ってる！！！"
   ]
  },
  {
   "cell_type": "markdown",
   "id": "f67d8c9e",
   "metadata": {
    "slideshow": {
     "slide_type": "subslide"
    }
   },
   "source": [
    "それでは困るので、良い方法があります\n",
    "\n",
    "多くの言語で使われている手法です"
   ]
  },
  {
   "cell_type": "markdown",
   "id": "7bd6c8d9",
   "metadata": {
    "slideshow": {
     "slide_type": "subslide"
    }
   },
   "source": [
    "array_1 = $\\fbox{1}$\n",
    "\n",
    "2 を追加すると、１回コピーが走って、\n",
    "\n",
    "array_2 = $\\fbox{1}$　$\\fbox{2}$\n",
    "\n",
    "3 を追加する時には、２回コピーが走るけど、先に２個分確保してから追加する\n",
    "\n",
    "array_4 = $\\fbox{1}$　$\\fbox{2}$　$\\fbox{3}$　$\\fbox{?}$"
   ]
  },
  {
   "cell_type": "markdown",
   "id": "0281a230",
   "metadata": {
    "slideshow": {
     "slide_type": "subslide"
    }
   },
   "source": [
    "array_4 = $\\fbox{1}$　$\\fbox{2}$　$\\fbox{3}$　$\\fbox{?}$\n",
    "\n",
    "すると、次に 4 を追加する時にはコピーしなくて済む！\n",
    "\n",
    "array_4 = $\\fbox{1}$　$\\fbox{2}$　$\\fbox{3}$　$\\fbox{4}$\n",
    "\n",
    "次も同じように**倍**確保して、準備しておく\n",
    "\n",
    "array_8 = $\\fbox{1}$　$\\fbox{2}$　$\\fbox{3}$　$\\fbox{4}$　$\\fbox{5}$　$\\fbox{?}$　$\\fbox{?}$　$\\fbox{?}$"
   ]
  },
  {
   "cell_type": "markdown",
   "id": "2020f645",
   "metadata": {
    "slideshow": {
     "slide_type": "slide"
    }
   },
   "source": [
    "## 計算量を見る\n",
    "\n",
    "### 最初の方法\n",
    "- 一回ごとにコピーが走る\n",
    "- n 個の配列に1個要素追加をした場合、\n",
    "  - n 回のコピーが走る → $O(n)$\n",
    "\n",
    "### 良さそうな方法\n",
    "- m 回に一回コピーが走る\n",
    "- n 個の配列に1個要素追加をした場合、\n",
    "  - n 回のコピーが走る → $O(n)$"
   ]
  },
  {
   "cell_type": "markdown",
   "id": "a8fe4f82",
   "metadata": {
    "slideshow": {
     "slide_type": "subslide"
    }
   },
   "source": [
    "良さそうなのにオーダー記法を使うと両方$O(n)$になってる！！！\n",
    "\n",
    "=> そこで**償却計算量**"
   ]
  },
  {
   "cell_type": "markdown",
   "id": "39bcc05d",
   "metadata": {
    "slideshow": {
     "slide_type": "subslide"
    }
   },
   "source": [
    "### 最初の方法\n",
    "- サイズ n の配列に**n+1**個要素追加をした場合、\n",
    "  - $1 + 2 + ... + n$ 回のコピーが走る\n",
    "  - $= \\frac{n(n - 1)}{2}$ 回のコピーが走る\n",
    "  - $O(n^2)$\n",
    "\n",
    "### 良さそうな方法\n",
    "- サイズ n の配列に**n+1**個要素追加をした場合、\n",
    "  - $1 + 1 + 1 + ... + n$ 回のコピーが走る\n",
    "  - $= 2n$ 回のコピーが走る\n",
    "  - $O(n)$"
   ]
  },
  {
   "cell_type": "markdown",
   "id": "1ba84dac",
   "metadata": {
    "slideshow": {
     "slide_type": "subslide"
    }
   },
   "source": [
    "このことをもっと分かりやすく表すため、\n",
    "\n",
    "n 回に 1 回 $O(n)$ が現れるので、\n",
    "\n",
    "$O(\\frac{n}{n}) = O(1)$ と書きましょう、とするのが**償却計算量**"
   ]
  },
  {
   "cell_type": "markdown",
   "id": "ab5364ed",
   "metadata": {
    "slideshow": {
     "slide_type": "slide"
    }
   },
   "source": [
    "## 「償却される」とはなんだったのか\n",
    "\n",
    "array_8 = $\\fbox{1}$　$\\fbox{2}$　$\\fbox{3}$　$\\fbox{4}$　$\\fbox{5}$　$\\fbox{?}$　$\\fbox{?}$　$\\fbox{?}$\n",
    "\n",
    "↑これは、先読みをして使うであろうメモリを先に**借りている**と見れる。\n"
   ]
  },
  {
   "cell_type": "markdown",
   "id": "7ea2ca8e",
   "metadata": {
    "slideshow": {
     "slide_type": "subslide"
    }
   },
   "source": [
    "「償却」を辞書で引くと、\n",
    "\n",
    "> 借りた金、投資などのつぐないとして返すこと。特に、「減価償却」の略。  (引用元：Oxford Languages)\n",
    "\n",
    "などと書かれています"
   ]
  },
  {
   "cell_type": "markdown",
   "id": "0818523e",
   "metadata": {
    "slideshow": {
     "slide_type": "slide"
    }
   },
   "source": [
    "償却計算の手法には2つの技法があります\n",
    "\n",
    "- 銀行家法(banker's method)\n",
    "  - 操作のたびに貯金が貯まっていき、高い支払いは貯金を切り崩すという考え方\n",
    "- 物理学者法(physicist's method)\n",
    "  - エネルギー消費が激しい部分の前には十分エネルギーを蓄えているという前提で考える\n",
    "\n",
    "※コレ自体は考え方の違いなので実質的には等価であることは証明されている"
   ]
  },
  {
   "cell_type": "markdown",
   "id": "3e4a8bf6",
   "metadata": {
    "slideshow": {
     "slide_type": "subslide"
    }
   },
   "source": [
    "この辺りの詳細は Zenn で記事にしてまとめる予定なのでそちらで\n",
    "（まだ下書き）"
   ]
  }
 ],
 "metadata": {
  "celltoolbar": "Slideshow",
  "kernelspec": {
   "display_name": "Python 3 (ipykernel)",
   "language": "python",
   "name": "python3"
  },
  "language_info": {
   "codemirror_mode": {
    "name": "ipython",
    "version": 3
   },
   "file_extension": ".py",
   "mimetype": "text/x-python",
   "name": "python",
   "nbconvert_exporter": "python",
   "pygments_lexer": "ipython3",
   "version": "3.11.3"
  }
 },
 "nbformat": 4,
 "nbformat_minor": 5
}
